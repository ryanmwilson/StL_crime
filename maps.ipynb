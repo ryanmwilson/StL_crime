{
 "cells": [
  {
   "cell_type": "markdown",
   "metadata": {
    "collapsed": true
   },
   "source": [
    "# Crime map\n",
    "\n",
    "This notebooks show geospatial locations of crimes in St. Louis, MO between the years 2008-2016.  Below, the city neighborhoods are outlined (using geojson boundaries extrated from a neighborhood boundary shapefile), and the locations of all homocides are shown.  The colors correspond to the temperature at the time of the crime; red is a warmer temperature, while black/purple is a colder temperature"
   ]
  },
  {
   "cell_type": "code",
   "execution_count": 3,
   "metadata": {},
   "outputs": [],
   "source": [
    "import pandas as pd\n",
    "import numpy as np\n",
    "import matplotlib.pyplot as plt\n",
    "import folium\n",
    "import json\n",
    "from IPython.display import HTML\n",
    "\n",
    "%matplotlib notebook"
   ]
  },
  {
   "cell_type": "markdown",
   "metadata": {},
   "source": [
    "Here we create a dataframe of exclusively homocides."
   ]
  },
  {
   "cell_type": "code",
   "execution_count": 26,
   "metadata": {},
   "outputs": [],
   "source": [
    "crimedf = pd.read_pickle('cleaned_data/crimedf.pkl')\n",
    "crimedf['Homocide'] = 0\n",
    "crimedf.loc[crimedf['Crime'].str[0:2] == '01', 'Homocide'] = 1\n",
    "crimedfhomocide = crimedf[(crimedf['Homocide']==1)]\n",
    "crimedfhomocide = crimedfhomocide.reset_index().drop(['index'],1)"
   ]
  },
  {
   "cell_type": "code",
   "execution_count": 28,
   "metadata": {},
   "outputs": [],
   "source": [
    "StLouis = json.load(open('StL.json'))\n",
    "m = folium.Map(location=[38.65, -90.25], tiles='CartoDB positron', zoom_start=11, width='60%')\n",
    "highlight_function = lambda x: {'fillColor': 'black', 'color': 'black', 'weight': 4, 'fillOpacity': 0}\n",
    "style_function = lambda feature: {'fillColor': 'black', 'color': 'black', 'weight' : 1, 'fillOpacity' : 0.025}\n",
    "folium.GeoJson(StLouis, smooth_factor = 1, style_function = style_function, highlight_function = highlight_function).add_to(m)\n",
    "for ind in range(0,crimedfhomocide.shape[0],1):\n",
    "    c = '#%02x%02x%02x' % tuple(np.round(256*np.array(plt.cm.gnuplot(crimedfhomocide.loc[ind, 'dry_temp']/120)[0:3])).astype(int))\n",
    "    folium.CircleMarker(location=[crimedfhomocide.loc[ind,'YCoord'], crimedfhomocide.loc[ind,'XCoord']], radius=4, popup=str(crimedfhomocide.loc[ind,'Date']) + crimedfhomocide.loc[ind,'Description'], color='#00', fill_color=c, fill_opacity=0.5,fill=True).add_to(m)\n",
    "\n",
    "m.save('StL_homocide_map.html')"
   ]
  },
  {
   "cell_type": "code",
   "execution_count": 29,
   "metadata": {},
   "outputs": [
    {
     "data": {
      "text/html": [
       "<iframe src=StL_homocide_map.html width=1600 height=800></iframe>"
      ],
      "text/plain": [
       "<IPython.core.display.HTML object>"
      ]
     },
     "execution_count": 29,
     "metadata": {},
     "output_type": "execute_result"
    }
   ],
   "source": [
    "HTML('<iframe src=StL_homocide_map.html width=1600 height=800></iframe>')"
   ]
  }
 ],
 "metadata": {
  "kernelspec": {
   "display_name": "Python 3",
   "language": "python",
   "name": "python3"
  },
  "language_info": {
   "codemirror_mode": {
    "name": "ipython",
    "version": 3
   },
   "file_extension": ".py",
   "mimetype": "text/x-python",
   "name": "python",
   "nbconvert_exporter": "python",
   "pygments_lexer": "ipython3",
   "version": "3.6.0"
  }
 },
 "nbformat": 4,
 "nbformat_minor": 2
}
