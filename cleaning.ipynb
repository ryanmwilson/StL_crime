{
 "cells": [
  {
   "cell_type": "code",
   "execution_count": null,
   "metadata": {},
   "outputs": [],
   "source": [
    "# existing issues with data, to keep in mind...\n",
    "# weather data is absent for ~12 hours at a time, often"
   ]
  },
  {
   "cell_type": "code",
   "execution_count": null,
   "metadata": {},
   "outputs": [],
   "source": [
    "import pandas as pd\n",
    "import numpy as np\n",
    "import glob, geocoder, time"
   ]
  },
  {
   "cell_type": "code",
   "execution_count": null,
   "metadata": {},
   "outputs": [],
   "source": [
    "# load, combine crime data\n",
    "crimedf = pd.DataFrame(index=[],columns=[])\n",
    "for counter, file in enumerate(glob.glob('raw_data/stl_crime_data/*.csv')):\n",
    "    tmp = pd.read_csv(file, encoding = 'ISO-8859-1', skiprows=None, low_memory=False)\n",
    "    tmp.columns=tmp.columns.str.replace('-','')\n",
    "    tmp.columns=tmp.columns.str.replace(' ','')\n",
    "    tmp.columns=tmp.columns.str.replace('DateOccured','Date')\n",
    "    tmp.columns=tmp.columns.str.replace('DateOccur','Date')\n",
    "    tmp.columns=tmp.columns.str.replace('ILEADSAddress','Address')\n",
    "    tmp.columns=tmp.columns.str.replace('ILEADSStreet','Street')\n",
    "    crimedf = pd.concat([crimedf,tmp], axis=0, ignore_index=True)\n",
    "#crimedf = crimedf.sample(n=1000, axis=0)\n",
    "crimedf = crimedf.reset_index().drop(['index'],1)"
   ]
  },
  {
   "cell_type": "code",
   "execution_count": null,
   "metadata": {},
   "outputs": [],
   "source": [
    "# clean crime data\n",
    "dropcolumnscrime = ['CADAddress','CADStreet','AdministrativeAdjustmentIndicator','Beat','CodedMonth','Complaint','DateCrimeCoded','FlagAdministrative','FlagCleanup','FlagCrime','FlagUnfounded','ILeadsAdd','ILeadsApprove','ILeadsAsg','ILeadsType','LocationComment','LocationName','MonthReportedtoMSHP','NewCrimeIndicator','UnfoundedCrimeIndicator']\n",
    "dropcolumnscrime = pd.Index(dropcolumnscrime).intersection(crimedf.columns).tolist()\n",
    "crimedf = crimedf.drop(dropcolumnscrime, 1)\n",
    "crimedf = crimedf[crimedf['Count']==1]\n",
    "crimedf = crimedf.drop('Count', 1)\n",
    "crimedf['Date'] = pd.to_datetime(crimedf['Date']) # to pandas datetime format\n",
    "crimedf = crimedf[crimedf['Date'].dt.year>=2008]\n",
    "# most of these cases correspond to no location (on some street, but no address or neighborhood)\n",
    "crimedrop = ((crimedf['Address'].isnull()) | (crimedf['Street'].str.contains('UNKNOWN')) | (crimedf['Neighborhood']==0))\n",
    "crimedf = crimedf[~crimedrop]\n",
    "print('Dropped ',sum(crimedrop)/crimedf.shape[0]*100,'%',' of crimes',sep='')\n",
    "strcols = ['Crime','District','Description','Address','Street']\n",
    "crimedf[strcols] = crimedf[strcols].astype(str)\n",
    "crimedf.loc[crimedf['Crime'].str.len()==5, 'Crime'] = '0' + crimedf.loc[crimedf['Crime'].str.len()==5, 'Crime']\n",
    "crimedf = crimedf.reset_index().drop(['index'],1)"
   ]
  },
  {
   "cell_type": "code",
   "execution_count": null,
   "metadata": {},
   "outputs": [],
   "source": [
    "# find lat/lon for crimes, use google lookup tool for empty data\n",
    "import stateplane\n",
    "from pyproj import Proj, transform\n",
    "\n",
    "inProj = Proj(init='esri:102696', preserve_units = True)\n",
    "outProj = Proj(init='epsg:4326')\n",
    "\n",
    "dropinds = []\n",
    "for ind in crimedf.index:\n",
    "    xc = crimedf['XCoord'].iloc[ind]\n",
    "    yc = crimedf['YCoord'].iloc[ind]\n",
    "    if (xc==0):\n",
    "        addrstring = crimedf['Address'].iloc[ind] + ' ' + crimedf['Street'].iloc[ind] + ' St. Louis, MO'\n",
    "        print(\"Looking up w/ geocoder.google\", addrstring, ind/crimedf.shape[0], sep=' ')\n",
    "        g = geocoder.google(addrstring)\n",
    "        if not g.latlng:\n",
    "            crimedf.loc[ind,'XCoord'], crimedf.loc[ind,'YCoord'] = 906515.1600962189, 1017387.5860900703\n",
    "            dropinds.append(ind)\n",
    "        else:\n",
    "            sp = stateplane.from_latlon(g.latlng[0],g.latlng[1])\n",
    "            crimedf.loc[ind, 'XCoord'], crimedf.loc[ind, 'YCoord'] = sp[0]/0.3048, sp[1]/0.3048\n",
    "\n",
    "crimedf['XCoord'], crimedf['YCoord'] = transform(inProj, outProj, crimedf['XCoord'].tolist(), crimedf['YCoord'].tolist())\n",
    "\n",
    "print('Dropped ',len(dropinds)/crimedf.shape[0],'% of crimes',sep='')\n",
    "crimedf = crimedf.drop(dropinds)\n",
    "crimedf = crimedf.reset_index().drop(['index'],1)"
   ]
  },
  {
   "cell_type": "code",
   "execution_count": null,
   "metadata": {},
   "outputs": [],
   "source": [
    "# load and clean weather data\n",
    "weatherdf = pd.read_csv('raw_data/stl_weather/stl_weather_hourly.csv', encoding = 'ISO-8859-1', skiprows=None, low_memory=False)\n",
    "dropcolumnsweather = ['PeakWindDirection','HOURLYAltimeterSetting','PeakWindDirection','DAILYAverageSeaLevelPressure','STATION','STATION_NAME','ELEVATION','LATITUDE','LONGITUDE','HOURLYDRYBULBTEMPC','HOURLYWETBULBTEMPC','HOURLYDewPointTempC','HOURLYPressureTendency','HOURLYPressureChange','HOURLYSeaLevelPressure']    \n",
    "weatherdf = weatherdf.drop(dropcolumnsweather, 1)\n",
    "monthlydailycols = weatherdf.filter(regex='Monthly|monthly|DAILY').columns\n",
    "weatherdf = weatherdf.drop(monthlydailycols, 1)\n",
    "weatherdf = weatherdf[weatherdf['REPORTTPYE']!='SOD'].drop(['REPORTTPYE'],1)\n",
    "weatherdf['DATE'] = pd.to_datetime(weatherdf['DATE'])\n",
    "weatherdf['HOURLYDRYBULBTEMPF'] = weatherdf['HOURLYDRYBULBTEMPF'].str.replace('s','')\n",
    "weatherdf['HOURLYVISIBILITY'] = weatherdf['HOURLYVISIBILITY'].str.replace('V','')\n",
    "weatherdf['HOURLYDewPointTempF'] = weatherdf['HOURLYDewPointTempF'].str.replace('s','')\n",
    "weatherdf['HOURLYWindSpeed'] = weatherdf['HOURLYWindSpeed'].str.replace('s','')\n",
    "weatherdf['HOURLYStationPressure'] = weatherdf['HOURLYStationPressure'].str.replace('s','')\n",
    "weatherdf['HOURLYPrecip'] = weatherdf['HOURLYPrecip'].str.replace('s','').str.replace('T','.01')\n",
    "weatherdf['HOURLYSKYCONDITIONS'] = weatherdf['HOURLYSKYCONDITIONS'].str[0:3]\n",
    "weatherdf.loc[weatherdf['HOURLYSKYCONDITIONS'].isin(['BKN','SCT','FEW','OVC','CLR'])==False,'HOURLYSKYCONDITIONS'] = 'OTH'\n",
    "weatherdf = weatherdf[~weatherdf['DATE'].isnull()]\n",
    "# make numeric & fill in nan values with previous readings\n",
    "numcols = ['HOURLYVISIBILITY','HOURLYPRSENTWEATHERTYPE','HOURLYDRYBULBTEMPF','HOURLYWETBULBTEMPF','HOURLYDewPointTempF','HOURLYRelativeHumidity','HOURLYWindSpeed','HOURLYWindDirection','HOURLYWindGustSpeed','HOURLYStationPressure','HOURLYPrecip']\n",
    "weatherdf[numcols] = weatherdf[numcols].apply(pd.to_numeric, errors='coerce', axis=1)\n",
    "weatherdf = weatherdf.fillna(method='ffill')\n",
    "weatherdf = weatherdf.fillna(method='bfill')\n",
    "weatherdf = weatherdf.reset_index().drop(['index'],1)"
   ]
  },
  {
   "cell_type": "code",
   "execution_count": null,
   "metadata": {
    "scrolled": false
   },
   "outputs": [],
   "source": [
    "# make weather columns in crime dataframe\n",
    "def find_nearest(array,value):\n",
    "    ind = (np.abs(array-value)).argmin()\n",
    "    return ind\n",
    "\n",
    "crimedftmp = pd.DataFrame(columns=['HOURLYDRYBULBTEMPF','HOURLYWETBULBTEMPF','HOURLYVISIBILITY','HOURLYDewPointTempF','HOURLYRelativeHumidity','HOURLYWindSpeed','HOURLYWindDirection','HOURLYStationPressure','HOURLYPrecip','HOURLYSKYCONDITIONS'])\n",
    "start = time.time()\n",
    "for ind in crimedf.index:\n",
    "    minind = find_nearest(weatherdf['DATE'], crimedf.loc[ind,'Date'])\n",
    "    weatherdfminind = weatherdf.loc[minind,:]\n",
    "    crimedftmp = crimedftmp.append(weatherdfminind[['HOURLYDRYBULBTEMPF','HOURLYWETBULBTEMPF','HOURLYVISIBILITY','HOURLYDewPointTempF','HOURLYRelativeHumidity','HOURLYWindSpeed','HOURLYWindDirection','HOURLYStationPressure','HOURLYPrecip','HOURLYSKYCONDITIONS']] )\n",
    "    print(ind/crimedf.shape[0], sep=' ', end=\"\\r\")\n",
    "\n",
    "end = time.time()\n",
    "crimedftmp = crimedftmp.reset_index().drop('index',1)\n",
    "crimedf = pd.merge(crimedf,crimedftmp, left_index=True, right_index=True)\n",
    "crimedf.columns = ['Address', 'Crime', 'Date', 'Description', 'District', 'Neighborhood','Street', 'XCoord', 'YCoord', 'dry_temp','wet_temp','visibility','dew_point','humidity','wind_speed','wind_dir','pressure','precip','sky']\n",
    "print('\\n')\n",
    "print('Took', (end-start)/3600, 'hours',sep=' ')"
   ]
  },
  {
   "cell_type": "code",
   "execution_count": null,
   "metadata": {},
   "outputs": [],
   "source": [
    "# Load neighborhood population data\n",
    "hooddict = {'Carondelet': 1, 'Patch': 2, 'Holly Hills': 3, 'Boulevard Heights': 4, 'Bevo Mill': 5, 'Princeton Heights': 6, 'South Hampton': 7, 'St. Louis Hills': 8, 'Lindenwood Park': 9, 'Ellendale': 10, 'Clifton Heights': 11, 'The Hill': 12, 'Southwest Garden': 13, 'North Hampton': 14, 'Tower Grove South': 15, 'Dutchtown': 16, 'Mount Pleasant': 17, 'Marine Villa': 18, 'Gravois Park': 19, 'Kosciusko': 20, 'Soulard': 21, 'Benton Park': 22, 'McKinley Heights': 23, 'Fox Park': 24, 'Tower Grove East': 25, 'Compton Heights': 26, 'Shaw': 27, 'Botanical Heights (formerly McRee Town)': 28, 'Tiffany': 29, 'Benton Park West': 30, 'The Gate District': 31, 'Lafayette Square': 32, 'Peabody, Darst, Webbe': 33, 'La Salle': 34, 'Downtown': 35, 'Downtown West': 36, 'Midtown': 37, 'Central West End': 38, 'Forest Park Southeast': 39, 'Kings Oak': 40, 'Cheltenham': 41, 'Clayton-Tamm': 42, 'Franz Park': 43, 'Hi-Pointe': 44, 'Wydown-Skinker': 45, 'Skinker-DeBaliviere': 46, 'DeBaliviere Place': 47, 'West End': 48, 'Visitation Park': 49, 'Wells-Goodfellow': 50, 'Academy': 51, 'Kingsway West': 52, 'Fountain Park': 53, 'Lewis Place': 54, 'Kingsway East': 55, 'The Greater Ville': 56, 'The Ville': 57, 'Vandeventer': 58, 'JeffVanderLou': 59, 'St. Louis Place': 60, 'Carr Square': 61, 'Columbus Square': 62, 'Old North St. Louis': 63, 'Near North Riverfront': 64, 'Hyde Park': 65, 'College Hill': 66, 'Fairground Neighborhood': 67, \"O'Fallon\": 68, 'Penrose': 69, 'Mark Twain-I-70 Industrial': 70, 'Mark Twain': 71, 'Walnut Park East': 72, 'North Point': 73, 'Baden': 74, 'Riverview': 75, 'Walnut Park West': 76, 'Covenant Blu-Grand Center': 77, 'Hamilton Heights': 78, 'North Riverfront': 79, 'Carondelet Park': 80, 'Tower Grove Park': 81, 'Forest Park': 82, 'Fairgrounds Park': 83, 'Penrose Park': 84, 'Calvary-Bellefontaine Cemetaries': 86}\n",
    "inv_hooddict = {v: k for k, v in hooddict.items()}\n",
    "hoodpopdf = pd.read_csv('raw_data/StL_neighborhood_populations_2010.csv', encoding = 'ISO-8859-1', skiprows=None)\n",
    "hoodpopdf['Neighborhood'].replace(hooddict, inplace=True)"
   ]
  },
  {
   "cell_type": "code",
   "execution_count": null,
   "metadata": {},
   "outputs": [],
   "source": [
    "# Save as cleaned \"pickle\" dataframe files\n",
    "crimedf.to_pickle('cleaned_data/crimedf.pkl')\n",
    "hoodpopdf.to_pickle('cleaned_data/hoodpopdf.pkl')\n",
    "weatherdf.to_pickle('cleaned_data/weatherdf.pkl')"
   ]
  }
 ],
 "metadata": {
  "kernelspec": {
   "display_name": "Python 3",
   "language": "python",
   "name": "python3"
  },
  "language_info": {
   "codemirror_mode": {
    "name": "ipython",
    "version": 3
   },
   "file_extension": ".py",
   "mimetype": "text/x-python",
   "name": "python",
   "nbconvert_exporter": "python",
   "pygments_lexer": "ipython3",
   "version": "3.6.0"
  }
 },
 "nbformat": 4,
 "nbformat_minor": 2
}
